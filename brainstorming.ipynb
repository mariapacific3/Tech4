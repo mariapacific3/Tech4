{
 "cells": [
  {
   "cell_type": "markdown",
   "id": "df2a08d6",
   "metadata": {},
   "source": [
    "## Brainstorming for Project\n",
    "\n",
    "- Use a playlist we create for testing/training data, can test ML algorithm on albums later on <--- ???\n",
    "\n",
    "\n",
    "- Decide whether to identify using sound or features of the song (exportify.net gives features in a csv file\n",
    "\n",
    "\n",
    "- Identify genre of song? OR identify artist? identify based on category instead of identifying a specific song\n",
    "\n",
    "\n",
    "- Pull dataset from top songs in the US (top 40/50/100) mark date songs are grabbed because it changes so often ):\n",
    "\n",
    "\n",
    "- exportify.net features: spotify ID, artist ID, track name, album name, artist name, release date, duration (ms), popularity, added by, added at, genre, danceability, energy, key, loudness, mode, speechiness, acousticness, instrumentalness, liveness, valence, tempo, time signature\n",
    "\n",
    "- identify artist out of a group of 5ish artists and ?? songs, give unseen songs by the group of artists to the ML as a training dataset\n",
    "\n",
    "\n",
    "- build 2 playlists, test and train playlists, we all add ?? songs from 1 artist each\n",
    "\n",
    "\n",
    "- feed the model actual audio of songs or feed it just data of songs?"
   ]
  },
  {
   "cell_type": "code",
   "execution_count": null,
   "id": "dae1f509",
   "metadata": {},
   "outputs": [],
   "source": []
  }
 ],
 "metadata": {
  "kernelspec": {
   "display_name": "Python 3",
   "language": "python",
   "name": "python3"
  },
  "language_info": {
   "codemirror_mode": {
    "name": "ipython",
    "version": 3
   },
   "file_extension": ".py",
   "mimetype": "text/x-python",
   "name": "python",
   "nbconvert_exporter": "python",
   "pygments_lexer": "ipython3",
   "version": "3.8.8"
  }
 },
 "nbformat": 4,
 "nbformat_minor": 5
}
