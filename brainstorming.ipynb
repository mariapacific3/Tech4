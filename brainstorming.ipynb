{
 "cells": [
  {
   "cell_type": "markdown",
   "id": "d3f5f2bd",
   "metadata": {},
   "source": [
    "## Brainstorming for Project\n",
    "\n",
    "- Use a playlist we create for testing/training data, can test ML algorithm on albums later on\n",
    "- Decide whether to identify using sound or features of the song (exportify.net gives features in a csv file)"
   ]
  }
 ],
 "metadata": {
  "kernelspec": {
   "display_name": "Python 3",
   "language": "python",
   "name": "python3"
  },
  "language_info": {
   "codemirror_mode": {
    "name": "ipython",
    "version": 3
   },
   "file_extension": ".py",
   "mimetype": "text/x-python",
   "name": "python",
   "nbconvert_exporter": "python",
   "pygments_lexer": "ipython3",
   "version": "3.8.8"
  }
 },
 "nbformat": 4,
 "nbformat_minor": 5
}
