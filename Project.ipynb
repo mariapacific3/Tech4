{
 "cells": [
  {
   "cell_type": "markdown",
   "id": "3d7dd4de",
   "metadata": {},
   "source": [
    "This is going to be the notebook we are using for the project itself I suppose"
   ]
  },
  {
   "cell_type": "code",
   "execution_count": null,
   "id": "97e3242e",
   "metadata": {},
   "outputs": [],
   "source": []
  }
 ],
 "metadata": {
  "kernelspec": {
   "display_name": "Python 3",
   "language": "python",
   "name": "python3"
  },
  "language_info": {
   "codemirror_mode": {
    "name": "ipython",
    "version": 3
   },
   "file_extension": ".py",
   "mimetype": "text/x-python",
   "name": "python",
   "nbconvert_exporter": "python",
   "pygments_lexer": "ipython3",
   "version": "3.8.8"
  }
 },
 "nbformat": 4,
 "nbformat_minor": 5
}
