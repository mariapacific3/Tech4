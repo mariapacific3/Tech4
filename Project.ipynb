{
 "cells": [
  {
   "cell_type": "markdown",
   "metadata": {},
   "source": [
    "# Final Product"
   ]
  },
  {
   "cell_type": "code",
   "execution_count": 7,
   "metadata": {},
   "outputs": [],
   "source": [
    "import numpy as np\n",
    "import matplotlib.pylab as plt\n",
    "from sklearn.model_selection import train_test_split\n",
    "from sklearn.model_selection import GridSearchCV\n",
    "from sklearn.metrics import classification_report\n",
    "from sklearn.metrics import confusion_matrix, accuracy_score\n",
    "from sklearn.linear_model import Perceptron\n",
    "from sklearn.svm import SVC\n",
    "from sklearn.decomposition import PCA\n",
    "import statsmodels.api as sm\n",
    "import spotipy\n",
    "from spotipy.oauth2 import SpotifyClientCredentials\n",
    "import pandas as pd"
   ]
  },
  {
   "cell_type": "code",
   "execution_count": 8,
   "metadata": {},
   "outputs": [],
   "source": [
    "def create_dataframe(playlist, artist='Taylor Swift'):\n",
    "    '''The function creates a pandas data frame from a playlist link\n",
    "    \n",
    "    @param playlist: Playlist link\n",
    "    @param artist: Artist searching for in the playlist\n",
    "    \n",
    "    @return labels\n",
    "    @return features: dataset with all of the features\n",
    "    '''\n",
    "    \n",
    "    # create spotipy \n",
    "    cid = 'e1d252163c854439adf89ee1872895ef'\n",
    "    secret = '196af4bb9d674ad7942fb1c2f57f55fb'\n",
    "    client_credentials_manager = SpotifyClientCredentials(client_id=cid, client_secret=secret)\n",
    "    sp = spotipy.Spotify(client_credentials_manager = client_credentials_manager)\n",
    "    \n",
    "    playlist_link = playlist\n",
    "    \n",
    "    # retrive data\n",
    "    playlist_URI = playlist_link.split(\"/\")[-1].split(\"?\")[0]\n",
    "    track_uris = [x[\"track\"][\"uri\"] for x in sp.playlist_tracks(playlist_URI)[\"items\"]]\n",
    "    \n",
    "    # create the data frame\n",
    "    dataframe = {'Artist' : []}\n",
    "    for track in sp.playlist_tracks(playlist_URI)[\"items\"]:\n",
    "        # add artist\n",
    "        artist_name = track[\"track\"][\"artists\"][0][\"name\"]\n",
    "        if artist_name == artist:\n",
    "            dataframe['Artist'].append(1)\n",
    "        else:\n",
    "            dataframe['Artist'].append(0)\n",
    "\n",
    "        # add the rest of features\n",
    "        for keys, values in sp.audio_features(track[\"track\"][\"uri\"])[0].items():\n",
    "            if type(values) == float or type(values) == int:\n",
    "                if keys not in dataframe:\n",
    "                    dataframe[keys] = []\n",
    "                dataframe[keys].append(values)\n",
    "    \n",
    "    # extract features and labels\n",
    "    df = pd.DataFrame(data=dataframe)\n",
    "    df = df.drop(columns=['mode'])\n",
    "    features = df.drop(columns=['Artist'])\n",
    "    labels = df['Artist']\n",
    "    return features, labels"
   ]
  },
  {
   "cell_type": "code",
   "execution_count": 9,
   "metadata": {},
   "outputs": [],
   "source": [
    "def playlist_logit_model(playlist_link = 'https://open.spotify.com/playlist/3Q2GsAzMUmMcIV2TGNqleu?si=9801a625a0d64160', artist = 'Taylor Swift'):\n",
    "    '''Creates the logistic regression\n",
    "    @param playlist_link: Training playlist\n",
    "    @artist: artist: name of the artist searching for\n",
    "    '''\n",
    "    features, labels = create_dataframe(playlist_link, artist)\n",
    "    \n",
    "    logit_model = sm.Logit(labels, sm.add_constant(features, has_constant='add'))\n",
    "    result = logit_model.fit()\n",
    "    \n",
    "    return result"
   ]
  },
  {
   "cell_type": "code",
   "execution_count": 22,
   "metadata": {},
   "outputs": [],
   "source": [
    "def count_artist(playlist_link, artist = 'Taylor Swift', training_link = 'https://open.spotify.com/playlist/3Q2GsAzMUmMcIV2TGNqleu?si=9801a625a0d64160'):\n",
    "    print(f'Counting how many times {artist} is in your playlist...')\n",
    "    # logistic model\n",
    "    result = playlist_logit_model(training_link, artist)\n",
    "    \n",
    "    # create the dataframe and fit into model\n",
    "    features, _ = create_dataframe(playlist_link, artist='Taylor Swift')\n",
    "    predict = result.predict(sm.add_constant(features, has_constant='add'))\n",
    "    \n",
    "    # count how many times artist is in playlist\n",
    "    count = 0\n",
    "    for i in predict:\n",
    "        if i >= 0.5:\n",
    "            count += 1\n",
    "    return count"
   ]
  },
  {
   "cell_type": "code",
   "execution_count": 26,
   "metadata": {},
   "outputs": [
    {
     "name": "stdout",
     "output_type": "stream",
     "text": [
      "Counting how many times Taylor Swift is in your playlist...\n",
      "Warning: Maximum number of iterations has been exceeded.\n",
      "         Current function value: 0.359173\n",
      "         Iterations: 35\n"
     ]
    },
    {
     "name": "stderr",
     "output_type": "stream",
     "text": [
      "/Users/mariapacifico/opt/anaconda3/lib/python3.8/site-packages/statsmodels/base/model.py:566: ConvergenceWarning: Maximum Likelihood optimization failed to converge. Check mle_retvals\n",
      "  warnings.warn(\"Maximum Likelihood optimization failed to \"\n"
     ]
    },
    {
     "data": {
      "text/plain": [
       "10"
      ]
     },
     "execution_count": 26,
     "metadata": {},
     "output_type": "execute_result"
    }
   ],
   "source": [
    "count_artist('https://open.spotify.com/playlist/0AtieNHc2NZuEI7XYVP6rK?si=46f1d623c63e4b5e')"
   ]
  },
  {
   "cell_type": "markdown",
   "metadata": {},
   "source": [
    "Some limitations: \n",
    "- Cannot be a playlist made by spotify"
   ]
  }
 ],
 "metadata": {
  "kernelspec": {
   "display_name": "Python 3",
   "language": "python",
   "name": "python3"
  },
  "language_info": {
   "codemirror_mode": {
    "name": "ipython",
    "version": 3
   },
   "file_extension": ".py",
   "mimetype": "text/x-python",
   "name": "python",
   "nbconvert_exporter": "python",
   "pygments_lexer": "ipython3",
   "version": "3.8.5"
  }
 },
 "nbformat": 4,
 "nbformat_minor": 5
}
