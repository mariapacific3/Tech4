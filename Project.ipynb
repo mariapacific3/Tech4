{
 "cells": [
  {
   "cell_type": "markdown",
   "id": "3d7dd4de",
   "metadata": {},
   "source": [
    "This is going to be the notebook we are using for the project itself I suppose"
   ]
  },
  {
   "cell_type": "code",
   "execution_count": 1,
   "id": "97e3242e",
   "metadata": {},
   "outputs": [
    {
     "name": "stdout",
     "output_type": "stream",
     "text": [
      "  % Total    % Received % Xferd  Average Speed   Time    Time     Time  Current\n",
      "                                 Dload  Upload   Total   Spent    Left  Speed\n",
      "100 1890M  100 1890M    0     0  10.1M      0  0:03:06  0:03:06 --:--:-- 11.0M\n"
     ]
    }
   ],
   "source": [
    "!curl -O http://labrosa.ee.columbia.edu/~dpwe/tmp/millionsongsubset.tar.gz"
   ]
  },
  {
   "cell_type": "code",
   "execution_count": null,
   "id": "47171ed5",
   "metadata": {},
   "outputs": [],
   "source": []
  }
 ],
 "metadata": {
  "kernelspec": {
   "display_name": "Python 3",
   "language": "python",
   "name": "python3"
  },
  "language_info": {
   "codemirror_mode": {
    "name": "ipython",
    "version": 3
   },
   "file_extension": ".py",
   "mimetype": "text/x-python",
   "name": "python",
   "nbconvert_exporter": "python",
   "pygments_lexer": "ipython3",
   "version": "3.8.8"
  }
 },
 "nbformat": 4,
 "nbformat_minor": 5
}
