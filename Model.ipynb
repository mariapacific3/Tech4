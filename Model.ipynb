{
 "cells": [
  {
   "cell_type": "code",
   "execution_count": 1,
   "metadata": {},
   "outputs": [
    {
     "name": "stdout",
     "output_type": "stream",
     "text": [
      "Defaulting to user installation because normal site-packages is not writeable\n",
      "Requirement already satisfied: spotipy in /home/wehnerjo/.local/lib/python3.8/site-packages (2.19.0)\n",
      "Requirement already satisfied: urllib3>=1.26.0 in /opt/anaconda3/lib/python3.8/site-packages (from spotipy) (1.26.4)\n",
      "Requirement already satisfied: requests>=2.25.0 in /opt/anaconda3/lib/python3.8/site-packages (from spotipy) (2.25.1)\n",
      "Requirement already satisfied: six>=1.15.0 in /opt/anaconda3/lib/python3.8/site-packages (from spotipy) (1.15.0)\n",
      "Requirement already satisfied: chardet<5,>=3.0.2 in /opt/anaconda3/lib/python3.8/site-packages (from requests>=2.25.0->spotipy) (4.0.0)\n",
      "Requirement already satisfied: idna<3,>=2.5 in /opt/anaconda3/lib/python3.8/site-packages (from requests>=2.25.0->spotipy) (2.10)\n",
      "Requirement already satisfied: certifi>=2017.4.17 in /opt/anaconda3/lib/python3.8/site-packages (from requests>=2.25.0->spotipy) (2020.12.5)\n"
     ]
    }
   ],
   "source": [
    "!pip install spotipy"
   ]
  },
  {
   "cell_type": "code",
   "execution_count": 1,
   "metadata": {},
   "outputs": [],
   "source": [
    "# https://towardsdatascience.com/extracting-song-data-from-the-spotify-api-using-python-b1e79388d50\n",
    "import numpy as np\n",
    "import matplotlib.pylab as plt\n",
    "from sklearn.model_selection import train_test_split\n",
    "from sklearn.model_selection import GridSearchCV\n",
    "from sklearn.metrics import classification_report\n",
    "from sklearn.metrics import confusion_matrix, accuracy_score\n",
    "from sklearn.linear_model import Perceptron\n",
    "from sklearn.svm import SVC\n",
    "from sklearn.decomposition import PCA\n",
    "import statsmodels.api as sm\n",
    "import spotipy\n",
    "from spotipy.oauth2 import SpotifyClientCredentials\n",
    "import pandas as pd\n",
    "from sklearn.preprocessing import MinMaxScaler"
   ]
  },
  {
   "cell_type": "markdown",
   "metadata": {},
   "source": [
    "# Linear Regression ML Artist Identification Model:"
   ]
  },
  {
   "cell_type": "code",
   "execution_count": 2,
   "metadata": {},
   "outputs": [],
   "source": [
    "#Authentication - without user\n",
    "cid = 'e1d252163c854439adf89ee1872895ef'\n",
    "secret = '196af4bb9d674ad7942fb1c2f57f55fb'\n",
    "client_credentials_manager = SpotifyClientCredentials(client_id=cid, client_secret=secret)\n",
    "sp = spotipy.Spotify(client_credentials_manager = client_credentials_manager)"
   ]
  },
  {
   "cell_type": "code",
   "execution_count": 3,
   "metadata": {},
   "outputs": [],
   "source": [
    "playlist_link = 'https://open.spotify.com/playlist/3Q2GsAzMUmMcIV2TGNqleu?si=9801a625a0d64160'\n",
    "playlist_URI = playlist_link.split(\"/\")[-1].split(\"?\")[0]\n",
    "track_uris = [x[\"track\"][\"uri\"] for x in sp.playlist_tracks(playlist_URI)[\"items\"]]"
   ]
  },
  {
   "cell_type": "code",
   "execution_count": 4,
   "metadata": {},
   "outputs": [],
   "source": [
    "# creating dataframe\n",
    "dataframe = {'Artist' : []}\n",
    "for track in sp.playlist_tracks(playlist_URI)[\"items\"]:\n",
    "    #Name\n",
    "    artist_name = track[\"track\"][\"artists\"][0][\"name\"]\n",
    "    if artist_name == 'Taylor Swift':\n",
    "        dataframe['Artist'].append(1)\n",
    "    else:\n",
    "        dataframe['Artist'].append(0)\n",
    "        \n",
    "    for keys, values in sp.audio_features(track[\"track\"][\"uri\"])[0].items():\n",
    "        if type(values) == float or type(values) == int:\n",
    "            \n",
    "            if keys not in dataframe:\n",
    "                dataframe[keys] = []\n",
    "            dataframe[keys].append(values)\n"
   ]
  },
  {
   "cell_type": "code",
   "execution_count": 5,
   "metadata": {
    "scrolled": false
   },
   "outputs": [
    {
     "data": {
      "text/html": [
       "<div>\n",
       "<style scoped>\n",
       "    .dataframe tbody tr th:only-of-type {\n",
       "        vertical-align: middle;\n",
       "    }\n",
       "\n",
       "    .dataframe tbody tr th {\n",
       "        vertical-align: top;\n",
       "    }\n",
       "\n",
       "    .dataframe thead th {\n",
       "        text-align: right;\n",
       "    }\n",
       "</style>\n",
       "<table border=\"1\" class=\"dataframe\">\n",
       "  <thead>\n",
       "    <tr style=\"text-align: right;\">\n",
       "      <th></th>\n",
       "      <th>Artist</th>\n",
       "      <th>danceability</th>\n",
       "      <th>energy</th>\n",
       "      <th>key</th>\n",
       "      <th>loudness</th>\n",
       "      <th>speechiness</th>\n",
       "      <th>acousticness</th>\n",
       "      <th>instrumentalness</th>\n",
       "      <th>liveness</th>\n",
       "      <th>valence</th>\n",
       "      <th>tempo</th>\n",
       "      <th>duration_ms</th>\n",
       "      <th>time_signature</th>\n",
       "    </tr>\n",
       "  </thead>\n",
       "  <tbody>\n",
       "    <tr>\n",
       "      <th>0</th>\n",
       "      <td>1</td>\n",
       "      <td>0.652</td>\n",
       "      <td>0.802</td>\n",
       "      <td>7</td>\n",
       "      <td>-6.114</td>\n",
       "      <td>0.1810</td>\n",
       "      <td>0.08710</td>\n",
       "      <td>0.000006</td>\n",
       "      <td>0.1480</td>\n",
       "      <td>0.295</td>\n",
       "      <td>170.157</td>\n",
       "      <td>211933</td>\n",
       "      <td>4</td>\n",
       "    </tr>\n",
       "    <tr>\n",
       "      <th>1</th>\n",
       "      <td>0</td>\n",
       "      <td>0.654</td>\n",
       "      <td>0.760</td>\n",
       "      <td>0</td>\n",
       "      <td>-3.669</td>\n",
       "      <td>0.0450</td>\n",
       "      <td>0.07970</td>\n",
       "      <td>0.000000</td>\n",
       "      <td>0.2990</td>\n",
       "      <td>0.410</td>\n",
       "      <td>99.945</td>\n",
       "      <td>200787</td>\n",
       "      <td>4</td>\n",
       "    </tr>\n",
       "    <tr>\n",
       "      <th>2</th>\n",
       "      <td>0</td>\n",
       "      <td>0.776</td>\n",
       "      <td>0.875</td>\n",
       "      <td>4</td>\n",
       "      <td>-5.535</td>\n",
       "      <td>0.0575</td>\n",
       "      <td>0.03430</td>\n",
       "      <td>0.000000</td>\n",
       "      <td>0.3140</td>\n",
       "      <td>0.849</td>\n",
       "      <td>111.988</td>\n",
       "      <td>211786</td>\n",
       "      <td>4</td>\n",
       "    </tr>\n",
       "    <tr>\n",
       "      <th>3</th>\n",
       "      <td>0</td>\n",
       "      <td>0.696</td>\n",
       "      <td>0.893</td>\n",
       "      <td>9</td>\n",
       "      <td>-2.963</td>\n",
       "      <td>0.0760</td>\n",
       "      <td>0.06620</td>\n",
       "      <td>0.000000</td>\n",
       "      <td>0.4730</td>\n",
       "      <td>0.573</td>\n",
       "      <td>97.954</td>\n",
       "      <td>214013</td>\n",
       "      <td>4</td>\n",
       "    </tr>\n",
       "    <tr>\n",
       "      <th>4</th>\n",
       "      <td>0</td>\n",
       "      <td>0.645</td>\n",
       "      <td>0.878</td>\n",
       "      <td>5</td>\n",
       "      <td>-3.208</td>\n",
       "      <td>0.1130</td>\n",
       "      <td>0.29400</td>\n",
       "      <td>0.000000</td>\n",
       "      <td>0.0760</td>\n",
       "      <td>0.862</td>\n",
       "      <td>82.324</td>\n",
       "      <td>227027</td>\n",
       "      <td>4</td>\n",
       "    </tr>\n",
       "    <tr>\n",
       "      <th>...</th>\n",
       "      <td>...</td>\n",
       "      <td>...</td>\n",
       "      <td>...</td>\n",
       "      <td>...</td>\n",
       "      <td>...</td>\n",
       "      <td>...</td>\n",
       "      <td>...</td>\n",
       "      <td>...</td>\n",
       "      <td>...</td>\n",
       "      <td>...</td>\n",
       "      <td>...</td>\n",
       "      <td>...</td>\n",
       "      <td>...</td>\n",
       "    </tr>\n",
       "    <tr>\n",
       "      <th>95</th>\n",
       "      <td>0</td>\n",
       "      <td>0.588</td>\n",
       "      <td>0.749</td>\n",
       "      <td>11</td>\n",
       "      <td>-4.323</td>\n",
       "      <td>0.0580</td>\n",
       "      <td>0.00370</td>\n",
       "      <td>0.000000</td>\n",
       "      <td>0.0813</td>\n",
       "      <td>0.397</td>\n",
       "      <td>130.093</td>\n",
       "      <td>174600</td>\n",
       "      <td>4</td>\n",
       "    </tr>\n",
       "    <tr>\n",
       "      <th>96</th>\n",
       "      <td>1</td>\n",
       "      <td>0.359</td>\n",
       "      <td>0.543</td>\n",
       "      <td>7</td>\n",
       "      <td>-7.582</td>\n",
       "      <td>0.0919</td>\n",
       "      <td>0.49200</td>\n",
       "      <td>0.000016</td>\n",
       "      <td>0.1180</td>\n",
       "      <td>0.453</td>\n",
       "      <td>68.534</td>\n",
       "      <td>221307</td>\n",
       "      <td>4</td>\n",
       "    </tr>\n",
       "    <tr>\n",
       "      <th>97</th>\n",
       "      <td>1</td>\n",
       "      <td>0.777</td>\n",
       "      <td>0.658</td>\n",
       "      <td>0</td>\n",
       "      <td>-5.191</td>\n",
       "      <td>0.0540</td>\n",
       "      <td>0.07670</td>\n",
       "      <td>0.000000</td>\n",
       "      <td>0.0901</td>\n",
       "      <td>0.633</td>\n",
       "      <td>110.048</td>\n",
       "      <td>190360</td>\n",
       "      <td>4</td>\n",
       "    </tr>\n",
       "    <tr>\n",
       "      <th>98</th>\n",
       "      <td>0</td>\n",
       "      <td>0.620</td>\n",
       "      <td>0.805</td>\n",
       "      <td>5</td>\n",
       "      <td>-5.538</td>\n",
       "      <td>0.0417</td>\n",
       "      <td>0.00564</td>\n",
       "      <td>0.000092</td>\n",
       "      <td>0.2850</td>\n",
       "      <td>0.586</td>\n",
       "      <td>122.062</td>\n",
       "      <td>204764</td>\n",
       "      <td>4</td>\n",
       "    </tr>\n",
       "    <tr>\n",
       "      <th>99</th>\n",
       "      <td>1</td>\n",
       "      <td>0.292</td>\n",
       "      <td>0.574</td>\n",
       "      <td>0</td>\n",
       "      <td>-9.375</td>\n",
       "      <td>0.0401</td>\n",
       "      <td>0.12000</td>\n",
       "      <td>0.005690</td>\n",
       "      <td>0.0663</td>\n",
       "      <td>0.166</td>\n",
       "      <td>124.344</td>\n",
       "      <td>211240</td>\n",
       "      <td>4</td>\n",
       "    </tr>\n",
       "  </tbody>\n",
       "</table>\n",
       "<p>100 rows × 13 columns</p>\n",
       "</div>"
      ],
      "text/plain": [
       "    Artist  danceability  energy  key  loudness  speechiness  acousticness  \\\n",
       "0        1         0.652   0.802    7    -6.114       0.1810       0.08710   \n",
       "1        0         0.654   0.760    0    -3.669       0.0450       0.07970   \n",
       "2        0         0.776   0.875    4    -5.535       0.0575       0.03430   \n",
       "3        0         0.696   0.893    9    -2.963       0.0760       0.06620   \n",
       "4        0         0.645   0.878    5    -3.208       0.1130       0.29400   \n",
       "..     ...           ...     ...  ...       ...          ...           ...   \n",
       "95       0         0.588   0.749   11    -4.323       0.0580       0.00370   \n",
       "96       1         0.359   0.543    7    -7.582       0.0919       0.49200   \n",
       "97       1         0.777   0.658    0    -5.191       0.0540       0.07670   \n",
       "98       0         0.620   0.805    5    -5.538       0.0417       0.00564   \n",
       "99       1         0.292   0.574    0    -9.375       0.0401       0.12000   \n",
       "\n",
       "    instrumentalness  liveness  valence    tempo  duration_ms  time_signature  \n",
       "0           0.000006    0.1480    0.295  170.157       211933               4  \n",
       "1           0.000000    0.2990    0.410   99.945       200787               4  \n",
       "2           0.000000    0.3140    0.849  111.988       211786               4  \n",
       "3           0.000000    0.4730    0.573   97.954       214013               4  \n",
       "4           0.000000    0.0760    0.862   82.324       227027               4  \n",
       "..               ...       ...      ...      ...          ...             ...  \n",
       "95          0.000000    0.0813    0.397  130.093       174600               4  \n",
       "96          0.000016    0.1180    0.453   68.534       221307               4  \n",
       "97          0.000000    0.0901    0.633  110.048       190360               4  \n",
       "98          0.000092    0.2850    0.586  122.062       204764               4  \n",
       "99          0.005690    0.0663    0.166  124.344       211240               4  \n",
       "\n",
       "[100 rows x 13 columns]"
      ]
     },
     "execution_count": 5,
     "metadata": {},
     "output_type": "execute_result"
    }
   ],
   "source": [
    "df = pd.DataFrame(data=dataframe)\n",
    "df = df.drop(columns=['mode'])\n",
    "df"
   ]
  },
  {
   "cell_type": "code",
   "execution_count": 6,
   "metadata": {},
   "outputs": [],
   "source": [
    "# create the actual model\n",
    "features = df.drop(columns=['Artist'])\n",
    "labels = df['Artist']\n",
    "\n",
    "train_vectors, test_vectors, train_labels, test_labels = train_test_split(features, labels, train_size = 0.75, random_state = 314159)"
   ]
  },
  {
   "cell_type": "code",
   "execution_count": 7,
   "metadata": {},
   "outputs": [
    {
     "name": "stdout",
     "output_type": "stream",
     "text": [
      "Warning: Maximum number of iterations has been exceeded.\n",
      "         Current function value: 0.352940\n",
      "         Iterations: 35\n",
      "                           Logit Regression Results                           \n",
      "==============================================================================\n",
      "Dep. Variable:                 Artist   No. Observations:                   75\n",
      "Model:                          Logit   Df Residuals:                       62\n",
      "Method:                           MLE   Df Model:                           12\n",
      "Date:                Sun, 24 Apr 2022   Pseudo R-squ.:                  0.2668\n",
      "Time:                        19:57:54   Log-Likelihood:                -26.470\n",
      "converged:                      False   LL-Null:                       -36.102\n",
      "Covariance Type:            nonrobust   LLR p-value:                   0.08240\n",
      "====================================================================================\n",
      "                       coef    std err          z      P>|z|      [0.025      0.975]\n",
      "------------------------------------------------------------------------------------\n",
      "const              -92.9582   5.28e+04     -0.002      0.999   -1.03e+05    1.03e+05\n",
      "danceability         4.2344      4.521      0.937      0.349      -4.628      13.096\n",
      "energy              -3.0363      5.233     -0.580      0.562     -13.293       7.220\n",
      "key                 -0.1527      0.129     -1.188      0.235      -0.405       0.099\n",
      "loudness             0.0566      0.347      0.163      0.870      -0.623       0.736\n",
      "speechiness          4.3926      4.248      1.034      0.301      -3.933      12.718\n",
      "acousticness        -1.7168      3.277     -0.524      0.600      -8.140       4.707\n",
      "instrumentalness  1219.1908    706.359      1.726      0.084    -165.247    2603.629\n",
      "liveness            -5.2586      4.315     -1.219      0.223     -13.715       3.198\n",
      "valence             -0.0809      2.585     -0.031      0.975      -5.148       4.986\n",
      "tempo                0.0312      0.015      2.029      0.042       0.001       0.061\n",
      "duration_ms        2.66e-05   1.58e-05      1.680      0.093   -4.44e-06    5.76e-05\n",
      "time_signature      20.7004   1.32e+04      0.002      0.999   -2.58e+04    2.59e+04\n",
      "====================================================================================\n"
     ]
    },
    {
     "name": "stderr",
     "output_type": "stream",
     "text": [
      "/opt/anaconda3/lib/python3.8/site-packages/statsmodels/base/model.py:566: ConvergenceWarning: Maximum Likelihood optimization failed to converge. Check mle_retvals\n",
      "  warnings.warn(\"Maximum Likelihood optimization failed to \"\n"
     ]
    }
   ],
   "source": [
    "logit_model = sm.Logit(train_labels, sm.add_constant(train_vectors))\n",
    "result = logit_model.fit()\n",
    "print(result.summary() )"
   ]
  },
  {
   "cell_type": "code",
   "execution_count": 8,
   "metadata": {},
   "outputs": [
    {
     "data": {
      "text/plain": [
       "0.84"
      ]
     },
     "execution_count": 8,
     "metadata": {},
     "output_type": "execute_result"
    }
   ],
   "source": [
    "predict = result.predict(sm.add_constant(test_vectors))\n",
    "final_predict = []\n",
    "for i in predict:\n",
    "    if i < 0.5:\n",
    "        final_predict.append(0)\n",
    "    else:\n",
    "        final_predict.append(1)\n",
    "accuracy_score(test_labels, final_predict) # accuracy score"
   ]
  },
  {
   "cell_type": "markdown",
   "metadata": {},
   "source": [
    "# Principal Component Analysis (PCA) Model:"
   ]
  },
  {
   "cell_type": "code",
   "execution_count": 9,
   "metadata": {},
   "outputs": [
    {
     "data": {
      "text/html": [
       "<div>\n",
       "<style scoped>\n",
       "    .dataframe tbody tr th:only-of-type {\n",
       "        vertical-align: middle;\n",
       "    }\n",
       "\n",
       "    .dataframe tbody tr th {\n",
       "        vertical-align: top;\n",
       "    }\n",
       "\n",
       "    .dataframe thead th {\n",
       "        text-align: right;\n",
       "    }\n",
       "</style>\n",
       "<table border=\"1\" class=\"dataframe\">\n",
       "  <thead>\n",
       "    <tr style=\"text-align: right;\">\n",
       "      <th></th>\n",
       "      <th>0</th>\n",
       "      <th>1</th>\n",
       "      <th>2</th>\n",
       "      <th>3</th>\n",
       "      <th>4</th>\n",
       "      <th>5</th>\n",
       "      <th>6</th>\n",
       "      <th>7</th>\n",
       "      <th>8</th>\n",
       "      <th>9</th>\n",
       "      <th>10</th>\n",
       "      <th>11</th>\n",
       "    </tr>\n",
       "  </thead>\n",
       "  <tbody>\n",
       "    <tr>\n",
       "      <th>0</th>\n",
       "      <td>0.626087</td>\n",
       "      <td>0.787078</td>\n",
       "      <td>0.636364</td>\n",
       "      <td>0.511452</td>\n",
       "      <td>0.313287</td>\n",
       "      <td>0.096102</td>\n",
       "      <td>0.000743</td>\n",
       "      <td>0.125126</td>\n",
       "      <td>0.265191</td>\n",
       "      <td>0.761135</td>\n",
       "      <td>0.397105</td>\n",
       "      <td>1.0</td>\n",
       "    </tr>\n",
       "    <tr>\n",
       "      <th>1</th>\n",
       "      <td>0.629565</td>\n",
       "      <td>0.725404</td>\n",
       "      <td>0.000000</td>\n",
       "      <td>0.775605</td>\n",
       "      <td>0.036977</td>\n",
       "      <td>0.087873</td>\n",
       "      <td>0.000000</td>\n",
       "      <td>0.315206</td>\n",
       "      <td>0.405795</td>\n",
       "      <td>0.235262</td>\n",
       "      <td>0.307411</td>\n",
       "      <td>1.0</td>\n",
       "    </tr>\n",
       "    <tr>\n",
       "      <th>2</th>\n",
       "      <td>0.841739</td>\n",
       "      <td>0.894273</td>\n",
       "      <td>0.363636</td>\n",
       "      <td>0.574006</td>\n",
       "      <td>0.062373</td>\n",
       "      <td>0.037391</td>\n",
       "      <td>0.000000</td>\n",
       "      <td>0.334089</td>\n",
       "      <td>0.942536</td>\n",
       "      <td>0.325462</td>\n",
       "      <td>0.395922</td>\n",
       "      <td>1.0</td>\n",
       "    </tr>\n",
       "    <tr>\n",
       "      <th>3</th>\n",
       "      <td>0.702609</td>\n",
       "      <td>0.920705</td>\n",
       "      <td>0.818182</td>\n",
       "      <td>0.851880</td>\n",
       "      <td>0.099959</td>\n",
       "      <td>0.072862</td>\n",
       "      <td>0.000000</td>\n",
       "      <td>0.534240</td>\n",
       "      <td>0.605086</td>\n",
       "      <td>0.220350</td>\n",
       "      <td>0.413843</td>\n",
       "      <td>1.0</td>\n",
       "    </tr>\n",
       "    <tr>\n",
       "      <th>4</th>\n",
       "      <td>0.613913</td>\n",
       "      <td>0.898678</td>\n",
       "      <td>0.454545</td>\n",
       "      <td>0.825411</td>\n",
       "      <td>0.175132</td>\n",
       "      <td>0.326163</td>\n",
       "      <td>0.000000</td>\n",
       "      <td>0.034491</td>\n",
       "      <td>0.958430</td>\n",
       "      <td>0.103284</td>\n",
       "      <td>0.518569</td>\n",
       "      <td>1.0</td>\n",
       "    </tr>\n",
       "    <tr>\n",
       "      <th>...</th>\n",
       "      <td>...</td>\n",
       "      <td>...</td>\n",
       "      <td>...</td>\n",
       "      <td>...</td>\n",
       "      <td>...</td>\n",
       "      <td>...</td>\n",
       "      <td>...</td>\n",
       "      <td>...</td>\n",
       "      <td>...</td>\n",
       "      <td>...</td>\n",
       "      <td>...</td>\n",
       "      <td>...</td>\n",
       "    </tr>\n",
       "    <tr>\n",
       "      <th>95</th>\n",
       "      <td>0.514783</td>\n",
       "      <td>0.709251</td>\n",
       "      <td>1.000000</td>\n",
       "      <td>0.704948</td>\n",
       "      <td>0.063389</td>\n",
       "      <td>0.003366</td>\n",
       "      <td>0.000000</td>\n",
       "      <td>0.041163</td>\n",
       "      <td>0.389901</td>\n",
       "      <td>0.461064</td>\n",
       "      <td>0.096679</td>\n",
       "      <td>1.0</td>\n",
       "    </tr>\n",
       "    <tr>\n",
       "      <th>96</th>\n",
       "      <td>0.116522</td>\n",
       "      <td>0.406755</td>\n",
       "      <td>0.636364</td>\n",
       "      <td>0.352852</td>\n",
       "      <td>0.132263</td>\n",
       "      <td>0.546327</td>\n",
       "      <td>0.001820</td>\n",
       "      <td>0.087362</td>\n",
       "      <td>0.458369</td>\n",
       "      <td>0.000000</td>\n",
       "      <td>0.472539</td>\n",
       "      <td>1.0</td>\n",
       "    </tr>\n",
       "    <tr>\n",
       "      <th>97</th>\n",
       "      <td>0.843478</td>\n",
       "      <td>0.575624</td>\n",
       "      <td>0.000000</td>\n",
       "      <td>0.611171</td>\n",
       "      <td>0.055262</td>\n",
       "      <td>0.084538</td>\n",
       "      <td>0.000000</td>\n",
       "      <td>0.052241</td>\n",
       "      <td>0.678445</td>\n",
       "      <td>0.310931</td>\n",
       "      <td>0.223503</td>\n",
       "      <td>1.0</td>\n",
       "    </tr>\n",
       "    <tr>\n",
       "      <th>98</th>\n",
       "      <td>0.570435</td>\n",
       "      <td>0.791483</td>\n",
       "      <td>0.454545</td>\n",
       "      <td>0.573682</td>\n",
       "      <td>0.030272</td>\n",
       "      <td>0.005523</td>\n",
       "      <td>0.010541</td>\n",
       "      <td>0.297583</td>\n",
       "      <td>0.620981</td>\n",
       "      <td>0.400914</td>\n",
       "      <td>0.339414</td>\n",
       "      <td>1.0</td>\n",
       "    </tr>\n",
       "    <tr>\n",
       "      <th>99</th>\n",
       "      <td>0.000000</td>\n",
       "      <td>0.452276</td>\n",
       "      <td>0.000000</td>\n",
       "      <td>0.159140</td>\n",
       "      <td>0.027022</td>\n",
       "      <td>0.132685</td>\n",
       "      <td>0.655530</td>\n",
       "      <td>0.022281</td>\n",
       "      <td>0.107470</td>\n",
       "      <td>0.418005</td>\n",
       "      <td>0.391528</td>\n",
       "      <td>1.0</td>\n",
       "    </tr>\n",
       "  </tbody>\n",
       "</table>\n",
       "<p>100 rows × 12 columns</p>\n",
       "</div>"
      ],
      "text/plain": [
       "          0         1         2         3         4         5         6   \\\n",
       "0   0.626087  0.787078  0.636364  0.511452  0.313287  0.096102  0.000743   \n",
       "1   0.629565  0.725404  0.000000  0.775605  0.036977  0.087873  0.000000   \n",
       "2   0.841739  0.894273  0.363636  0.574006  0.062373  0.037391  0.000000   \n",
       "3   0.702609  0.920705  0.818182  0.851880  0.099959  0.072862  0.000000   \n",
       "4   0.613913  0.898678  0.454545  0.825411  0.175132  0.326163  0.000000   \n",
       "..       ...       ...       ...       ...       ...       ...       ...   \n",
       "95  0.514783  0.709251  1.000000  0.704948  0.063389  0.003366  0.000000   \n",
       "96  0.116522  0.406755  0.636364  0.352852  0.132263  0.546327  0.001820   \n",
       "97  0.843478  0.575624  0.000000  0.611171  0.055262  0.084538  0.000000   \n",
       "98  0.570435  0.791483  0.454545  0.573682  0.030272  0.005523  0.010541   \n",
       "99  0.000000  0.452276  0.000000  0.159140  0.027022  0.132685  0.655530   \n",
       "\n",
       "          7         8         9         10   11  \n",
       "0   0.125126  0.265191  0.761135  0.397105  1.0  \n",
       "1   0.315206  0.405795  0.235262  0.307411  1.0  \n",
       "2   0.334089  0.942536  0.325462  0.395922  1.0  \n",
       "3   0.534240  0.605086  0.220350  0.413843  1.0  \n",
       "4   0.034491  0.958430  0.103284  0.518569  1.0  \n",
       "..       ...       ...       ...       ...  ...  \n",
       "95  0.041163  0.389901  0.461064  0.096679  1.0  \n",
       "96  0.087362  0.458369  0.000000  0.472539  1.0  \n",
       "97  0.052241  0.678445  0.310931  0.223503  1.0  \n",
       "98  0.297583  0.620981  0.400914  0.339414  1.0  \n",
       "99  0.022281  0.107470  0.418005  0.391528  1.0  \n",
       "\n",
       "[100 rows x 12 columns]"
      ]
     },
     "execution_count": 9,
     "metadata": {},
     "output_type": "execute_result"
    }
   ],
   "source": [
    "# Normalizing the data before performing PCA\n",
    "scaler = MinMaxScaler()\n",
    "\n",
    "features_norm = scaler.fit_transform(features)\n",
    "features_norm = pd.DataFrame(features_norm)\n",
    "features_norm"
   ]
  },
  {
   "cell_type": "code",
   "execution_count": 10,
   "metadata": {},
   "outputs": [],
   "source": [
    "# creating new training/testing sets based on the newly normalized features\n",
    "train_vectors_norm, test_vectors_norm, train_labels, test_labels = train_test_split(features_norm, labels, random_state = 314160)"
   ]
  },
  {
   "cell_type": "markdown",
   "metadata": {},
   "source": [
    "#### Explanation for the next part:\n",
    "There are 12 features in our model. Danceability, energy, key, loudness, speechiness, acousticness, instrumentalness, liveness, valence, tempo, duration (in milliseconds), and time signature. We can do various PCA models selecting only a certain number of features to assess. To find what can be considered a 'good' PCA model, you want the explained variance ratio to be _around_ .8, which will prevent overfitting. Below is the attempt to find the 'best' explained variance ratio, and thus the 'best' PCA model."
   ]
  },
  {
   "cell_type": "code",
   "execution_count": 11,
   "metadata": {},
   "outputs": [
    {
     "name": "stdout",
     "output_type": "stream",
     "text": [
      "[0.22291939 0.21302126 0.11742368 0.10116306 0.08529594 0.06954937]\n",
      "Total explained variance ratio: 0.8093727003210414\n"
     ]
    }
   ],
   "source": [
    "pca6 = PCA(n_components = 6)\n",
    "\n",
    "fit6 = pca6.fit(train_vectors_norm)\n",
    "\n",
    "pca_train_vectors6 = pca6.transform(train_vectors_norm)\n",
    "pca_test_vectors6 = pca6.transform(test_vectors_norm)\n",
    "\n",
    "print(pca6.explained_variance_ratio_)\n",
    "\n",
    "EVR6 = 0\n",
    "for val in (pca6.explained_variance_ratio_):\n",
    "    EVR6 += val\n",
    "    \n",
    "print('Total explained variance ratio:', EVR6)"
   ]
  },
  {
   "cell_type": "code",
   "execution_count": 12,
   "metadata": {},
   "outputs": [
    {
     "name": "stdout",
     "output_type": "stream",
     "text": [
      "[0.22291939 0.21302126 0.11742368 0.10116306 0.08529594]\n",
      "Total explained variance ratio: 0.739823328722721\n"
     ]
    }
   ],
   "source": [
    "pca5 = PCA(n_components = 5)\n",
    "\n",
    "fit5 = pca5.fit(train_vectors_norm)\n",
    "\n",
    "pca_train_vectors5 = pca5.transform(train_vectors_norm)\n",
    "pca_test_vectors5 = pca5.transform(test_vectors_norm)\n",
    "\n",
    "print(pca5.explained_variance_ratio_)\n",
    "\n",
    "EVR5 = 0\n",
    "for val in (pca5.explained_variance_ratio_):\n",
    "    EVR5 += val\n",
    "    \n",
    "print('Total explained variance ratio:', EVR5)"
   ]
  },
  {
   "cell_type": "markdown",
   "metadata": {},
   "source": [
    "#### Conclusion:\n",
    "I started off by creating a PCA with 6 features, which has an explained variance ratio of 0.809, or 0.81. To try to see if I could get the model to be even closer to .80, I went one lower (going higher would increase the EVR) and created a PCA with 5 features, which resulted in an EVR of 0.739, or 0.74. Since 0.81 is closer to 0.8 than 0.74, the PCA I will be using moving forward is the PCA with 6 features."
   ]
  },
  {
   "cell_type": "code",
   "execution_count": 13,
   "metadata": {},
   "outputs": [
    {
     "data": {
      "text/html": [
       "<div>\n",
       "<style scoped>\n",
       "    .dataframe tbody tr th:only-of-type {\n",
       "        vertical-align: middle;\n",
       "    }\n",
       "\n",
       "    .dataframe tbody tr th {\n",
       "        vertical-align: top;\n",
       "    }\n",
       "\n",
       "    .dataframe thead th {\n",
       "        text-align: right;\n",
       "    }\n",
       "</style>\n",
       "<table border=\"1\" class=\"dataframe\">\n",
       "  <thead>\n",
       "    <tr style=\"text-align: right;\">\n",
       "      <th></th>\n",
       "      <th>0</th>\n",
       "      <th>1</th>\n",
       "      <th>2</th>\n",
       "      <th>3</th>\n",
       "      <th>4</th>\n",
       "    </tr>\n",
       "  </thead>\n",
       "  <tbody>\n",
       "    <tr>\n",
       "      <th>0</th>\n",
       "      <td>0.001506</td>\n",
       "      <td>0.272877</td>\n",
       "      <td>0.222945</td>\n",
       "      <td>0.224706</td>\n",
       "      <td>0.010536</td>\n",
       "    </tr>\n",
       "    <tr>\n",
       "      <th>1</th>\n",
       "      <td>-0.119090</td>\n",
       "      <td>-0.413063</td>\n",
       "      <td>0.108108</td>\n",
       "      <td>-0.121828</td>\n",
       "      <td>-0.030319</td>\n",
       "    </tr>\n",
       "    <tr>\n",
       "      <th>2</th>\n",
       "      <td>-0.375628</td>\n",
       "      <td>-0.222911</td>\n",
       "      <td>-0.316640</td>\n",
       "      <td>0.130373</td>\n",
       "      <td>0.066571</td>\n",
       "    </tr>\n",
       "    <tr>\n",
       "      <th>3</th>\n",
       "      <td>-0.422862</td>\n",
       "      <td>0.321119</td>\n",
       "      <td>-0.250100</td>\n",
       "      <td>-0.054644</td>\n",
       "      <td>0.153047</td>\n",
       "    </tr>\n",
       "    <tr>\n",
       "      <th>4</th>\n",
       "      <td>-0.273816</td>\n",
       "      <td>-0.081902</td>\n",
       "      <td>-0.190240</td>\n",
       "      <td>0.014037</td>\n",
       "      <td>-0.026225</td>\n",
       "    </tr>\n",
       "    <tr>\n",
       "      <th>...</th>\n",
       "      <td>...</td>\n",
       "      <td>...</td>\n",
       "      <td>...</td>\n",
       "      <td>...</td>\n",
       "      <td>...</td>\n",
       "    </tr>\n",
       "    <tr>\n",
       "      <th>95</th>\n",
       "      <td>-0.106590</td>\n",
       "      <td>0.555763</td>\n",
       "      <td>0.032535</td>\n",
       "      <td>0.023946</td>\n",
       "      <td>-0.319045</td>\n",
       "    </tr>\n",
       "    <tr>\n",
       "      <th>96</th>\n",
       "      <td>0.571665</td>\n",
       "      <td>0.220573</td>\n",
       "      <td>0.035815</td>\n",
       "      <td>-0.206735</td>\n",
       "      <td>0.088771</td>\n",
       "    </tr>\n",
       "    <tr>\n",
       "      <th>97</th>\n",
       "      <td>-0.037570</td>\n",
       "      <td>-0.531377</td>\n",
       "      <td>-0.124120</td>\n",
       "      <td>0.030487</td>\n",
       "      <td>-0.230963</td>\n",
       "    </tr>\n",
       "    <tr>\n",
       "      <th>98</th>\n",
       "      <td>-0.194196</td>\n",
       "      <td>-0.021519</td>\n",
       "      <td>-0.015061</td>\n",
       "      <td>0.040279</td>\n",
       "      <td>0.026852</td>\n",
       "    </tr>\n",
       "    <tr>\n",
       "      <th>99</th>\n",
       "      <td>0.604278</td>\n",
       "      <td>-0.263248</td>\n",
       "      <td>0.667514</td>\n",
       "      <td>-0.235226</td>\n",
       "      <td>0.028838</td>\n",
       "    </tr>\n",
       "  </tbody>\n",
       "</table>\n",
       "<p>100 rows × 5 columns</p>\n",
       "</div>"
      ],
      "text/plain": [
       "           0         1         2         3         4\n",
       "0   0.001506  0.272877  0.222945  0.224706  0.010536\n",
       "1  -0.119090 -0.413063  0.108108 -0.121828 -0.030319\n",
       "2  -0.375628 -0.222911 -0.316640  0.130373  0.066571\n",
       "3  -0.422862  0.321119 -0.250100 -0.054644  0.153047\n",
       "4  -0.273816 -0.081902 -0.190240  0.014037 -0.026225\n",
       "..       ...       ...       ...       ...       ...\n",
       "95 -0.106590  0.555763  0.032535  0.023946 -0.319045\n",
       "96  0.571665  0.220573  0.035815 -0.206735  0.088771\n",
       "97 -0.037570 -0.531377 -0.124120  0.030487 -0.230963\n",
       "98 -0.194196 -0.021519 -0.015061  0.040279  0.026852\n",
       "99  0.604278 -0.263248  0.667514 -0.235226  0.028838\n",
       "\n",
       "[100 rows x 5 columns]"
      ]
     },
     "execution_count": 13,
     "metadata": {},
     "output_type": "execute_result"
    }
   ],
   "source": [
    "X_pca = pca5.fit_transform(features_norm)\n",
    "df_pca = pd.DataFrame(X_pca)\n",
    "df_pca"
   ]
  },
  {
   "cell_type": "markdown",
   "metadata": {},
   "source": [
    "#### Creating a new linear regression model based on the PCA results:"
   ]
  },
  {
   "cell_type": "code",
   "execution_count": 14,
   "metadata": {},
   "outputs": [],
   "source": [
    "train_vectors_pca, test_vectors_pca, train_labels, test_labels = train_test_split(df_pca, labels, random_state = 314170)"
   ]
  },
  {
   "cell_type": "code",
   "execution_count": 15,
   "metadata": {},
   "outputs": [
    {
     "name": "stdout",
     "output_type": "stream",
     "text": [
      "Optimization terminated successfully.\n",
      "         Current function value: 0.334448\n",
      "         Iterations 7\n",
      "                           Logit Regression Results                           \n",
      "==============================================================================\n",
      "Dep. Variable:                 Artist   No. Observations:                   75\n",
      "Model:                          Logit   Df Residuals:                       69\n",
      "Method:                           MLE   Df Model:                            5\n",
      "Date:                Sun, 24 Apr 2022   Pseudo R-squ.:                 0.08851\n",
      "Time:                        19:58:11   Log-Likelihood:                -25.084\n",
      "converged:                       True   LL-Null:                       -27.519\n",
      "Covariance Type:            nonrobust   LLR p-value:                    0.4318\n",
      "==============================================================================\n",
      "                 coef    std err          z      P>|z|      [0.025      0.975]\n",
      "------------------------------------------------------------------------------\n",
      "const         -2.1934      0.414     -5.302      0.000      -3.004      -1.383\n",
      "0              1.2621      1.049      1.204      0.229      -0.793       3.317\n",
      "1             -0.2284      1.230     -0.186      0.853      -2.639       2.182\n",
      "2              1.9695      1.264      1.559      0.119      -0.507       4.446\n",
      "3              1.5122      1.458      1.037      0.300      -1.345       4.370\n",
      "4             -0.4953      1.790     -0.277      0.782      -4.003       3.012\n",
      "==============================================================================\n"
     ]
    }
   ],
   "source": [
    "logit_model_pca = sm.Logit(train_labels, sm.add_constant(train_vectors_pca))\n",
    "result_pca = logit_model_pca.fit()\n",
    "print(result_pca.summary())"
   ]
  },
  {
   "cell_type": "code",
   "execution_count": 16,
   "metadata": {},
   "outputs": [
    {
     "data": {
      "text/plain": [
       "0.64"
      ]
     },
     "execution_count": 16,
     "metadata": {},
     "output_type": "execute_result"
    }
   ],
   "source": [
    "predict_pca = result_pca.predict(sm.add_constant(test_vectors_pca))\n",
    "final_predict_pca = []\n",
    "for i in predict_pca:\n",
    "    if i < 0.5:\n",
    "        final_predict_pca.append(0)\n",
    "    else:\n",
    "        final_predict_pca.append(1)\n",
    "accuracy_score(test_labels, final_predict_pca) # accuracy score for the PCA model"
   ]
  },
  {
   "cell_type": "markdown",
   "metadata": {},
   "source": [
    "### PCA Model Conclusion:\n",
    "The accuracy score for the original logistic regression model was 0.84. The accuracy score for the PCA model was 0.64. Since the accuracy score decreased significantly after applying PCA, it is clear that PCA made the logistic regression model worse. Therefore, PCA is not a good choice for this particular scenario."
   ]
  },
  {
   "cell_type": "markdown",
   "metadata": {},
   "source": [
    "# SVC"
   ]
  },
  {
   "cell_type": "code",
   "execution_count": 17,
   "metadata": {},
   "outputs": [],
   "source": [
    "# create the actual model\n",
    "features = df.drop(columns=['Artist'])\n",
    "labels = df['Artist']\n",
    "\n",
    "train_vectors, test_vectors, train_labels, test_labels = train_test_split(features, labels, train_size = 0.75, random_state = 314159)"
   ]
  },
  {
   "cell_type": "code",
   "execution_count": 18,
   "metadata": {},
   "outputs": [
    {
     "data": {
      "text/plain": [
       "GridSearchCV(estimator=SVC(),\n",
       "             param_grid={'C': [0.001, 0.01, 0.1, 1, 10, 100],\n",
       "                         'gamma': [1e-06, 1e-05, 0.0001, 0.001, 0.01, 0.1],\n",
       "                         'kernel': ('linear', 'rbf')})"
      ]
     },
     "execution_count": 18,
     "metadata": {},
     "output_type": "execute_result"
    }
   ],
   "source": [
    "parameters = {'kernel':('linear', 'rbf'), 'C':[1e-3, 0.01,0.1,1,10,100], 'gamma':[1e-6,1e-5,1e-4,1e-3,0.01,0.1]}\n",
    "my_model = SVC()\n",
    "clf = GridSearchCV(my_model, parameters)\n",
    "clf.fit(train_vectors, train_labels)"
   ]
  },
  {
   "cell_type": "code",
   "execution_count": 19,
   "metadata": {},
   "outputs": [
    {
     "data": {
      "text/plain": [
       "PCA(n_components=6)"
      ]
     },
     "execution_count": 19,
     "metadata": {},
     "output_type": "execute_result"
    }
   ],
   "source": [
    "pca6"
   ]
  },
  {
   "cell_type": "code",
   "execution_count": 20,
   "metadata": {
    "scrolled": true
   },
   "outputs": [],
   "source": [
    "pca_train = pca6.fit_transform(train_vectors)\n",
    "my_model = SVC(kernel = clf.get_params()['estimator__kernel'], C = clf.get_params()['estimator__C'], gamma = clf.get_params()['estimator__gamma'])\n",
    "results = my_model.fit(pca_train, train_labels)"
   ]
  },
  {
   "cell_type": "code",
   "execution_count": 21,
   "metadata": {},
   "outputs": [
    {
     "data": {
      "text/plain": [
       "0.8"
      ]
     },
     "execution_count": 21,
     "metadata": {},
     "output_type": "execute_result"
    }
   ],
   "source": [
    "pca_test = pca6.fit_transform(test_vectors)\n",
    "predict_test = results.predict(pca_test)\n",
    "\n",
    "accuracy_score(test_labels, predict_test)"
   ]
  },
  {
   "cell_type": "markdown",
   "metadata": {},
   "source": [
    "# Perceptron Model"
   ]
  },
  {
   "cell_type": "code",
   "execution_count": 25,
   "metadata": {},
   "outputs": [
    {
     "name": "stdout",
     "output_type": "stream",
     "text": [
      "              precision    recall  f1-score   support\n",
      "\n",
      "           0       0.84      1.00      0.91        21\n",
      "           1       0.00      0.00      0.00         4\n",
      "\n",
      "    accuracy                           0.84        25\n",
      "   macro avg       0.42      0.50      0.46        25\n",
      "weighted avg       0.71      0.84      0.77        25\n",
      "\n",
      "[[ 0  0  0 ...  0  0  0]\n",
      " [ 0  0  0 ...  0  0  0]\n",
      " [ 0  0  0 ...  0  0  0]\n",
      " ...\n",
      " [ 0  0  0 ...  0  0  0]\n",
      " [ 0  0  0 ...  0 21  0]\n",
      " [ 0  0  0 ...  0  4  0]]\n"
     ]
    },
    {
     "name": "stderr",
     "output_type": "stream",
     "text": [
      "/home/wehnerjo/.local/lib/python3.8/site-packages/sklearn/metrics/_classification.py:1318: UndefinedMetricWarning: Precision and F-score are ill-defined and being set to 0.0 in labels with no predicted samples. Use `zero_division` parameter to control this behavior.\n",
      "  _warn_prf(average, modifier, msg_start, len(result))\n",
      "/home/wehnerjo/.local/lib/python3.8/site-packages/sklearn/metrics/_classification.py:1318: UndefinedMetricWarning: Precision and F-score are ill-defined and being set to 0.0 in labels with no predicted samples. Use `zero_division` parameter to control this behavior.\n",
      "  _warn_prf(average, modifier, msg_start, len(result))\n",
      "/home/wehnerjo/.local/lib/python3.8/site-packages/sklearn/metrics/_classification.py:1318: UndefinedMetricWarning: Precision and F-score are ill-defined and being set to 0.0 in labels with no predicted samples. Use `zero_division` parameter to control this behavior.\n",
      "  _warn_prf(average, modifier, msg_start, len(result))\n"
     ]
    }
   ],
   "source": [
    "from sklearn.linear_model import Perceptron\n",
    "model = Perceptron()\n",
    "model.fit(train_vectors, train_labels)\n",
    "y_pred = model.predict(test_vectors)\n",
    "\n",
    "print(classification_report(test_labels, y_pred))\n",
    "print(confusion_matrix(test_labels, y_pred, labels=labels))"
   ]
  },
  {
   "cell_type": "code",
   "execution_count": 26,
   "metadata": {},
   "outputs": [
    {
     "name": "stdout",
     "output_type": "stream",
     "text": [
      "Accuracy: 0.8133333333333334\n"
     ]
    }
   ],
   "source": [
    "print(\"Accuracy:\", model.score(train_vectors,train_labels))"
   ]
  },
  {
   "cell_type": "markdown",
   "metadata": {},
   "source": [
    "### Perceptron Model Conclusion:\n",
    "The accuracy score from the Perceptron model is approximately 0.8133. Although the model does a pretty good job of classifying the artist into the appropriate classification, the original logistic regression model is the best model. As the original logistic regression model had an accuracy of 0.84, the Perceptron model would not be the best for this scenario.\n"
   ]
  },
  {
   "cell_type": "code",
   "execution_count": null,
   "metadata": {},
   "outputs": [],
   "source": []
  }
 ],
 "metadata": {
  "kernelspec": {
   "display_name": "Python 3",
   "language": "python",
   "name": "python3"
  },
  "language_info": {
   "codemirror_mode": {
    "name": "ipython",
    "version": 3
   },
   "file_extension": ".py",
   "mimetype": "text/x-python",
   "name": "python",
   "nbconvert_exporter": "python",
   "pygments_lexer": "ipython3",
   "version": "3.8.8"
  }
 },
 "nbformat": 4,
 "nbformat_minor": 4
}
